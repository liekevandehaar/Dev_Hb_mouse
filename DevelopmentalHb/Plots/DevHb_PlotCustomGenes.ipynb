{
 "cells": [
  {
   "cell_type": "markdown",
   "metadata": {},
   "source": [
    "## Plotting based on custom panel of marker genes\n",
    "Author: Lieke L van de Haar (18112020)"
   ]
  },
  {
   "cell_type": "code",
   "execution_count": null,
   "metadata": {},
   "outputs": [],
   "source": [
    "import numpy as np\n",
    "import pandas as pd\n",
    "import scanpy as sc\n",
    "import scvelo as scv\n",
    "import matplotlib as mpl\n",
    "import matplotlib.pyplot as plt\n",
    "from matplotlib import rcParams\n",
    "from scipy.sparse import csr_matrix\n",
    "\n",
    "#settings\n",
    "sc.settings.verbosity = 3\n",
    "sc.logging.print_versions()\n",
    "scv.logging.print_versions()\n",
    "sc.settings.figdir = \"../../figures/embryo_Hb/Seurat\"\n",
    "scv.settings.figdir = \"../../figures/embryo_Hb/Seurat\"\n",
    "sc.settings.set_figure_params(dpi=80)"
   ]
  },
  {
   "cell_type": "code",
   "execution_count": null,
   "metadata": {},
   "outputs": [],
   "source": [
    "c_cont_red = mpl.colors.LinearSegmentedColormap.from_list('custom_red', \n",
    "                                             [(0, 'silver'),\n",
    "                                              (0.1, (1, 0.82, 0.82)),\n",
    "                                              (0.2, (1, 0.67, 0.67)),\n",
    "                                              (0.3, (1, 0.58, 0.58)),\n",
    "                                              (0.4, (1, 0.48, 0.48)),\n",
    "                                              (0.5, (1, 0.38, 0.38)),\n",
    "                                              (0.6, (1, 0.29, 0.29)),\n",
    "                                              (0.7, (1, 0.22, 0.22)),\n",
    "                                              (0.8, (1, 0.15, 0.15)),\n",
    "                                              (0.9, (0.67, 0.09, 0.09)),\n",
    "                                              (1, (0.54, 0, 0))], N=128)\n",
    "c_cont_green = mpl.colors.LinearSegmentedColormap.from_list('custom_green', \n",
    "                                             [(0, 'silver'),\n",
    "                                              (0.1, (0.50, 0.93, 0.60)),\n",
    "                                              (0.2, (0.4, 0.89, 0.5)),\n",
    "                                              (0.3, (0.3, 0.81, 0.4)),\n",
    "                                              (0.4, (0.2, 0.73, 0.3)),\n",
    "                                              (0.5, (0.1, 0.69, 0.2)),\n",
    "                                              (0.6, (0, 0.62, 0.185)),\n",
    "                                              (0.7, (0, 0.55, 0.16)),\n",
    "                                              (0.8, (0, 0.47, 0.15)),\n",
    "                                              (0.9, (0, 0.36, 0.11)),\n",
    "                                              (1, (0, 0.29, 0.06))], N=128)\n",
    "c_cont_blue = mpl.colors.LinearSegmentedColormap.from_list('custom_blue', \n",
    "                                             [(0, 'silver'),\n",
    "                                              (0.1, (0.67, 0.77, 1)),\n",
    "                                              (0.2, (0.58, 0.68, 1)),\n",
    "                                              (0.3, (0.48, 0.58, 1)),\n",
    "                                              (0.4, (0.38, 0.48, 1)),\n",
    "                                              (0.5, (0.29, 0.39, 1)),\n",
    "                                              (0.6, (0.22, 0.32, 1)),\n",
    "                                              (0.7, (0.15, 0.25, 1)),\n",
    "                                              (0.8, (0.09, 0.19, 1)),\n",
    "                                              (0.9, (0, 0.1, 0.75)),\n",
    "                                              (1, (0, 0.1, 0.5))], N=128)"
   ]
  },
  {
   "cell_type": "code",
   "execution_count": null,
   "metadata": {},
   "outputs": [],
   "source": [
    "adata = sc.read_h5ad('../../data/output/embryo_Hb/Mar2020_embryo_Hb_Pou4f1_louvain_seurat.h5ad')"
   ]
  }
 ],
 "metadata": {
  "kernelspec": {
   "display_name": "Python 3",
   "language": "python",
   "name": "python3"
  },
  "language_info": {
   "codemirror_mode": {
    "name": "ipython",
    "version": 3
   },
   "file_extension": ".py",
   "mimetype": "text/x-python",
   "name": "python",
   "nbconvert_exporter": "python",
   "pygments_lexer": "ipython3",
   "version": "3.6.7"
  }
 },
 "nbformat": 4,
 "nbformat_minor": 4
}
