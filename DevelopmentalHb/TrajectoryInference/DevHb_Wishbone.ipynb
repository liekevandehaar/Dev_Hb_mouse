{
 "cells": [
  {
   "cell_type": "markdown",
   "metadata": {},
   "source": [
    "## Trajectory inference // Wishbone"
   ]
  },
  {
   "cell_type": "markdown",
   "metadata": {},
   "source": [
    "Author: Lieke L van de Haar (18112020)\n",
    "\n",
    "__Wishbone__\n",
    "\n",
    "Wishbone identifies bifurcating developmental trajectories from single-cell data\n",
    "Manu Setty, Michelle D Tadmor, Shlomit Reich-Zeliger, Omer Angel, Tomer Meir Salame, Pooja Kathail, Kristy Choi , Sean Bendall, Nir Friedman and Dana Pe'er. Nature Biotechnology 2016, http://dx.doi.org/10.1038/nbt.3569, doi:10.1038/nbt.3569\n",
    "\n",
    "For detailed information on Wishbone: https://github.com/ManuSetty/wishbone "
   ]
  },
  {
   "cell_type": "code",
   "execution_count": 5,
   "metadata": {},
   "outputs": [
    {
     "name": "stdout",
     "output_type": "stream",
     "text": [
      "scanpy==1.4.6 anndata==0.7.4 umap==0.3.10 numpy==1.19.2 scipy==1.4.1 pandas==1.0.1 scikit-learn==0.22.1 statsmodels==0.11.0 python-igraph==0.8.0 louvain==0.6.1\n",
      "scvelo==0.1.25  scanpy==1.4.6  anndata==0.7.4  loompy==3.0.6  numpy==1.19.2  scipy==1.4.1  matplotlib==3.3.2  sklearn==0.22.1  pandas==1.0.1  "
     ]
    }
   ],
   "source": [
    "import numpy as np\n",
    "import pandas as pd\n",
    "import scanpy as sc\n",
    "import scvelo as scv\n",
    "import matplotlib as mpl\n",
    "import matplotlib.pyplot as plt\n",
    "import wishbone\n",
    "from matplotlib import rcParams\n",
    "from scipy.sparse import csr_matrix\n",
    "\n",
    "#settings\n",
    "sc.settings.verbosity = 3\n",
    "sc.logging.print_versions()\n",
    "scv.logging.print_versions()\n",
    "sc.settings.figdir = \"../../../figures/DevelopmentalHb/TrajectoryInference/\"\n",
    "scv.settings.figdir = \"../../../figures/DevelopmentalHb/TrajectoryInference/\"\n",
    "sc.settings.set_figure_params(dpi=80)"
   ]
  },
  {
   "cell_type": "markdown",
   "metadata": {},
   "source": [
    "## Import adata "
   ]
  },
  {
   "cell_type": "code",
   "execution_count": 3,
   "metadata": {},
   "outputs": [],
   "source": [
    "adata = sc.read('../../../data/output/DevelopmentalHb/Mar2020_embryo_Hb_Pou4f1_louvain_seurat.h5ad')"
   ]
  },
  {
   "cell_type": "code",
   "execution_count": 4,
   "metadata": {
    "scrolled": true
   },
   "outputs": [
    {
     "data": {
      "text/plain": [
       "AnnData object with n_obs × n_vars = 2773 × 2292\n",
       "    obs: 'n_genes', 'plate', 'platebatch', 'stage', 'well_no', 'ERCC_genes', 'n_total_counts', 'percent_mito', 'n_counts', 'percent_ribo', 'percent_protein_coding', 'percent_lincRNA', 'sum_lincRNA', 'percent_antisense', 'sum_antisense', 'percent_miRNA', 'sum_miRNA', 'percent_bidirectional_promoter_lncRNA', 'sum_bidirectional_promoter_lncRNA', 'percent_snoRNA', 'n_counts_norm', 'louvain', 'velocity_self_transition', 'lineages', 'root_cells', 'end_points', 'velocity_pseudotime', '__is_in_cluster__', 'trajectory_wishbone', 'branch_wishbone', 'dpt_pseudotime', 'distance'\n",
       "    var: 'ENS_names', 'geneid', 'feature', 'chr', 'fullname', 'n_cells', 'highly_variable', 'means', 'dispersions', 'dispersions_norm', 'velocity_gamma', 'velocity_r2', 'velocity_genes'\n",
       "    uns: 'branch1_wishbone', 'branch2_wishbone', 'dendrogram_louvain', 'dendrogram_stage', 'diffmap_evals', 'draw_graph', 'iroot', 'louvain', 'louvain_colors', 'louvain_sizes', 'neighbors', 'paga', 'pca', 'plate_colors', 'rank_genes_groups', 'rank_genes_groups_filtered', 'stage_colors', 'trunk_wishbone', 'umap', 'velocity_graph', 'velocity_graph_neg', 'velocity_settings'\n",
       "    obsm: 'X_diffmap', 'X_draw_graph_fa', 'X_pca', 'X_tsne', 'X_umap', 'velocity_tsne', 'velocity_umap'\n",
       "    varm: 'PCs'\n",
       "    layers: 'Ms', 'Mu', 'spliced', 'unspliced', 'variance_velocity', 'velocity'\n",
       "    obsp: 'distances', 'connectivities'"
      ]
     },
     "execution_count": 4,
     "metadata": {},
     "output_type": "execute_result"
    }
   ],
   "source": [
    "adata"
   ]
  },
  {
   "cell_type": "markdown",
   "metadata": {},
   "source": [
    "Determine the starting cell in progenitor cluster 12. "
   ]
  },
  {
   "cell_type": "code",
   "execution_count": 12,
   "metadata": {},
   "outputs": [
    {
     "data": {
      "text/plain": [
       "Index(['Habenula_012___E11_1__X011', 'Habenula_012___E11_1__X059',\n",
       "       'Habenula_012___E11_1__X081', 'Habenula_012___E11_1__X139',\n",
       "       'Habenula_012___E11_1__X255', 'Habenula_012___E11_1__X267',\n",
       "       'Habenula_012___E11_1__X284', 'Habenula_012___E11_1__X308',\n",
       "       'Habenula_012___E11_1__X327', 'Habenula_012___E11_1__X328',\n",
       "       'Habenula_012___E11_1__X332', 'Habenula_012___E11_1__X335',\n",
       "       'Habenula_012___E11_1__X370', 'Habenula_013___E11_2__X054',\n",
       "       'Habenula_013___E11_2__X355', 'Habenula_022___E12_1__X034',\n",
       "       'Habenula_022___E12_1__X069', 'Habenula_022___E12_1__X177',\n",
       "       'Habenula_022___E12_1__X195', 'Habenula_022___E12_1__X212',\n",
       "       'Habenula_022___E12_1__X327', 'Habenula_022___E12_1__X343',\n",
       "       'Habenula_022___E12_1__X353', 'Habenula_006___E13_1__X268',\n",
       "       'Habenula_006___E13_1__X307', 'Habenula_006___E13_1__X321',\n",
       "       'Habenula_008___E13_2__X090', 'Habenula_008___E13_2__X165',\n",
       "       'Habenula_008___E13_2__X207', 'Habenula_008___E13_2__X372',\n",
       "       'Habenula_007___E15_1__X065', 'Habenula_007___E15_1__X206',\n",
       "       'Habenula_007___E15_1__X266', 'Habenula_007___E15_1__X340',\n",
       "       'Habenula_007___E15_1__X359', 'Habenula_011___E15_2__X093',\n",
       "       'Habenula_010___E18_1__X162', 'Habenula_010___E18_1__X277',\n",
       "       'Habenula_010___E18_1__X280', 'Habenula_010___E18_1__X282',\n",
       "       'Habenula_010___E18_1__X310', 'Habenula_010___E18_1__X317',\n",
       "       'Habenula_010___E18_1__X339', 'Habenula_010___E18_1__X374',\n",
       "       'Habenula_020___P4_1__X188', 'Habenula_020___P4_1__X201',\n",
       "       'Habenula_020___P4_1__X325', 'Habenula_021___P4_2__X205',\n",
       "       'Habenula_021___P4_2__X234', 'Habenula_021___P4_2__X241',\n",
       "       'Habenula_021___P4_2__X319', 'Habenula_018___P7_1__X134',\n",
       "       'Habenula_018___P7_1__X271', 'Habenula_018___P7_1__X304',\n",
       "       'Habenula_017___adult_2__X053', 'Habenula_017___adult_2__X271'],\n",
       "      dtype='object')"
      ]
     },
     "execution_count": 12,
     "metadata": {},
     "output_type": "execute_result"
    }
   ],
   "source": [
    "cell_ids = (\n",
    "    adata.obs\n",
    "         .loc[lambda x: x[\"louvain\"] == \"12\"]\n",
    "    ).index\n",
    "test = adata[cell_ids, :]\n",
    "test.obs.index"
   ]
  },
  {
   "cell_type": "code",
   "execution_count": 13,
   "metadata": {
    "scrolled": false
   },
   "outputs": [
    {
     "name": "stdout",
     "output_type": "stream",
     "text": [
      "Building lNN graph...\n",
      "lNN computed in : 0.02 seconds\n",
      "Determining waypoints if not specified...\n",
      "Determining shortest path distances and perspectives....\n",
      "..................................................................................................................................................................................................................................................................................................................................................................................................................................................................\n",
      "Time for determining distances and perspectives: 89.37 seconds\n",
      "Determining branch point and branch associations...\n",
      "Running iterations...\n",
      "Iteration: 2\n",
      "Correlation with previous iteration:  0.9977\n",
      "1 realignment iterations\n"
     ]
    }
   ],
   "source": [
    "sc.external.tl.wishbone(adata=adata, start_cell='Habenula_012___E11_1__X011',\n",
    "                        components=[1, 2], num_waypoints=450)"
   ]
  },
  {
   "cell_type": "code",
   "execution_count": 61,
   "metadata": {},
   "outputs": [],
   "source": [
    "markers = ['Vim', 'Id3', 'Cntn2', 'Chat', 'Calb2']"
   ]
  },
  {
   "cell_type": "code",
   "execution_count": 11,
   "metadata": {},
   "outputs": [
    {
     "name": "stdout",
     "output_type": "stream",
     "text": [
      "WARNING: saving figure to file ../../figures/embryo_Hb/Seurat/tsne_wishbone_trajectory_comp1-2.pdf\n"
     ]
    }
   ],
   "source": [
    "sc.pl.tsne(adata, color=['trajectory_wishbone', 'branch_wishbone'],save='_wishbone_trajectory_comp1-2.pdf')"
   ]
  },
  {
   "cell_type": "code",
   "execution_count": 66,
   "metadata": {},
   "outputs": [
    {
     "name": "stdout",
     "output_type": "stream",
     "text": [
      "WARNING: saving figure to file ../../figures/embryo_Hb/Seurat/wishbone_trajectory_wishbone_markers_comp1-2.pdf\n"
     ]
    }
   ],
   "source": [
    "sc.external.pl.wishbone_marker_trajectory(adata, markers, show=True, save='_wishbone_markers_comp1-2.pdf')"
   ]
  },
  {
   "cell_type": "code",
   "execution_count": null,
   "metadata": {},
   "outputs": [],
   "source": [
    "#adata.write('../../../data/output/DevelopmentalHb/Mar2020_embryo_Hb_Pou4f1_Wishbone.h5ad')"
   ]
  }
 ],
 "metadata": {
  "kernelspec": {
   "display_name": "Python 3",
   "language": "python",
   "name": "python3"
  },
  "language_info": {
   "codemirror_mode": {
    "name": "ipython",
    "version": 3
   },
   "file_extension": ".py",
   "mimetype": "text/x-python",
   "name": "python",
   "nbconvert_exporter": "python",
   "pygments_lexer": "ipython3",
   "version": "3.6.7"
  }
 },
 "nbformat": 4,
 "nbformat_minor": 4
}
